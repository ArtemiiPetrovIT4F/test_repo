Hiiiiiiiii
In [1]:
pip install psycopg2-binary
Requirement already satisfied: psycopg2-binary in /Users/a1/anaconda3/lib/python3.7/site-packages (2.8.4)
Note: you may need to restart the kernel to use updated packages.
