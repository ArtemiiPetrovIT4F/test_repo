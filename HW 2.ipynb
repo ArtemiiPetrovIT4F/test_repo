In [1]:
# import packages

import psycopg2
import getpass
import numpy as np
import datetime
import time
import pandas as pd
import dateutil.relativedelta as dr

# connect with database
a = input('User of database: ' )
b = input('Name of database: ' )
c = input('Host: ' )
d = input('Port: ' )
conn=psycopg2.connect(user=a, 
                      database=b, 
                      host=c,
                      port=d,
                      password=getpass.getpass('Insert password'))

# check parameters

print(conn.get_dsn_parameters())
User of database: postgres
Name of database: postgres
Host: Localhost
Port: 5432
Insert password········
{'user': 'postgres', 'dbname': 'postgres', 'host': 'Localhost', 'port': '5432', 'tty': '', 'options': '', 'sslmode': 'prefer', 'sslcompression': '0', 'krbsrvname': 'postgres', 'target_session_attrs': 'any'}
