# import packages

import psycopg2
import getpass
import numpy as np
import datetime
import time
import pandas as pd
import dateutil.relativedelta as dr

# connect with database
a = input('User of database: ' )
b = input('Name of database: ' )
c = input('Host: ' )
d = input('Port: ' )
conn=psycopg2.connect(user=a, 
                      database=b, 
                      host=c,
                      port=d,
                      password=getpass.getpass('Insert password'))

# check parameters

print(conn.get_dsn_parameters())
